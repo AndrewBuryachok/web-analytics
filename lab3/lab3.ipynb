{
 "cells": [
  {
   "cell_type": "code",
   "execution_count": 1,
   "metadata": {},
   "outputs": [],
   "source": [
    "import os\n",
    "import csv\n",
    "import praw\n",
    "import pandas as pd\n",
    "from dotenv import load_dotenv\n",
    "from datetime import datetime, timezone"
   ]
  },
  {
   "cell_type": "code",
   "execution_count": 2,
   "metadata": {},
   "outputs": [],
   "source": [
    "load_dotenv()\n",
    "\n",
    "client_id = os.getenv('CLIENT_ID')\n",
    "client_secret = os.getenv('CLIENT_SECRET')\n",
    "user_agent = os.getenv('USER_AGENT')\n",
    "user_name = os.getenv('USER_NAME')"
   ]
  },
  {
   "cell_type": "code",
   "execution_count": 3,
   "metadata": {},
   "outputs": [],
   "source": [
    "reddit = praw.Reddit(\n",
    "  client_id=client_id,\n",
    "  client_secret=client_secret,\n",
    "  user_agent=user_agent\n",
    ")"
   ]
  },
  {
   "cell_type": "code",
   "execution_count": 4,
   "metadata": {},
   "outputs": [],
   "source": [
    "user = reddit.redditor(user_name)"
   ]
  },
  {
   "cell_type": "code",
   "execution_count": 14,
   "metadata": {},
   "outputs": [],
   "source": [
    "posts = []\n",
    "\n",
    "for submission in user.submissions.new(limit=2000):\n",
    "  if submission.is_self and submission.selftext:\n",
    "    post_text = submission.selftext\n",
    "  else:\n",
    "    post_text = None\n",
    "  posts.append({\n",
    "    'author': submission.author,\n",
    "    'title': submission.title,\n",
    "    'score': submission.score,\n",
    "    'num_comments': submission.num_comments,\n",
    "    'created_utc': datetime.fromtimestamp(submission.created_utc, tz=timezone.utc),\n",
    "    'post_text': post_text,\n",
    "    'url': submission.url,\n",
    "    'upvote_ratio': submission.upvote_ratio\n",
    "  })"
   ]
  },
  {
   "cell_type": "code",
   "execution_count": 15,
   "metadata": {},
   "outputs": [
    {
     "data": {
      "text/html": [
       "<div>\n",
       "<style scoped>\n",
       "    .dataframe tbody tr th:only-of-type {\n",
       "        vertical-align: middle;\n",
       "    }\n",
       "\n",
       "    .dataframe tbody tr th {\n",
       "        vertical-align: top;\n",
       "    }\n",
       "\n",
       "    .dataframe thead th {\n",
       "        text-align: right;\n",
       "    }\n",
       "</style>\n",
       "<table border=\"1\" class=\"dataframe\">\n",
       "  <thead>\n",
       "    <tr style=\"text-align: right;\">\n",
       "      <th></th>\n",
       "      <th>author</th>\n",
       "      <th>title</th>\n",
       "      <th>score</th>\n",
       "      <th>num_comments</th>\n",
       "      <th>created_utc</th>\n",
       "      <th>post_text</th>\n",
       "      <th>url</th>\n",
       "      <th>upvote_ratio</th>\n",
       "    </tr>\n",
       "  </thead>\n",
       "  <tbody>\n",
       "    <tr>\n",
       "      <th>0</th>\n",
       "      <td>reddit</td>\n",
       "      <td>Is this really from Reddit? How to tell:</td>\n",
       "      <td>67</td>\n",
       "      <td>70</td>\n",
       "      <td>2024-02-22 16:59:37+00:00</td>\n",
       "      <td>None</td>\n",
       "      <td>/r/help/comments/1awsj1k/is_this_really_from_r...</td>\n",
       "      <td>0.91</td>\n",
       "    </tr>\n",
       "    <tr>\n",
       "      <th>1</th>\n",
       "      <td>reddit</td>\n",
       "      <td>Is this really from Reddit? How to tell:</td>\n",
       "      <td>56</td>\n",
       "      <td>1</td>\n",
       "      <td>2024-02-22 15:54:53+00:00</td>\n",
       "      <td>None</td>\n",
       "      <td>/r/help/comments/1awsj1k/is_this_really_from_r...</td>\n",
       "      <td>0.87</td>\n",
       "    </tr>\n",
       "    <tr>\n",
       "      <th>2</th>\n",
       "      <td>reddit</td>\n",
       "      <td>Is this really from Reddit? How to tell:</td>\n",
       "      <td>89</td>\n",
       "      <td>62</td>\n",
       "      <td>2024-02-22 00:33:52+00:00</td>\n",
       "      <td>[removed]</td>\n",
       "      <td>https://www.reddit.com/r/help/comments/1awsj1k...</td>\n",
       "      <td>0.90</td>\n",
       "    </tr>\n",
       "    <tr>\n",
       "      <th>3</th>\n",
       "      <td>reddit</td>\n",
       "      <td>Join our CEO tomorrow to discuss the API</td>\n",
       "      <td>0</td>\n",
       "      <td>0</td>\n",
       "      <td>2023-06-08 18:54:58+00:00</td>\n",
       "      <td>Reddit CEO, u/spez, will be here tomorrow to h...</td>\n",
       "      <td>https://www.reddit.com/r/reddit/comments/144ho...</td>\n",
       "      <td>0.14</td>\n",
       "    </tr>\n",
       "    <tr>\n",
       "      <th>4</th>\n",
       "      <td>reddit</td>\n",
       "      <td>Sat 2021-12-11</td>\n",
       "      <td>643</td>\n",
       "      <td>336</td>\n",
       "      <td>2021-12-13 00:02:38+00:00</td>\n",
       "      <td>accessing vault............unlocked\\r\\n\\r\\ncal...</td>\n",
       "      <td>https://www.reddit.com/r/nameaserver/comments/...</td>\n",
       "      <td>0.98</td>\n",
       "    </tr>\n",
       "  </tbody>\n",
       "</table>\n",
       "</div>"
      ],
      "text/plain": [
       "   author                                     title  score  num_comments  \\\n",
       "0  reddit  Is this really from Reddit? How to tell:     67            70   \n",
       "1  reddit  Is this really from Reddit? How to tell:     56             1   \n",
       "2  reddit  Is this really from Reddit? How to tell:     89            62   \n",
       "3  reddit  Join our CEO tomorrow to discuss the API      0             0   \n",
       "4  reddit                            Sat 2021-12-11    643           336   \n",
       "\n",
       "                created_utc  \\\n",
       "0 2024-02-22 16:59:37+00:00   \n",
       "1 2024-02-22 15:54:53+00:00   \n",
       "2 2024-02-22 00:33:52+00:00   \n",
       "3 2023-06-08 18:54:58+00:00   \n",
       "4 2021-12-13 00:02:38+00:00   \n",
       "\n",
       "                                           post_text  \\\n",
       "0                                               None   \n",
       "1                                               None   \n",
       "2                                          [removed]   \n",
       "3  Reddit CEO, u/spez, will be here tomorrow to h...   \n",
       "4  accessing vault............unlocked\\r\\n\\r\\ncal...   \n",
       "\n",
       "                                                 url  upvote_ratio  \n",
       "0  /r/help/comments/1awsj1k/is_this_really_from_r...          0.91  \n",
       "1  /r/help/comments/1awsj1k/is_this_really_from_r...          0.87  \n",
       "2  https://www.reddit.com/r/help/comments/1awsj1k...          0.90  \n",
       "3  https://www.reddit.com/r/reddit/comments/144ho...          0.14  \n",
       "4  https://www.reddit.com/r/nameaserver/comments/...          0.98  "
      ]
     },
     "execution_count": 15,
     "metadata": {},
     "output_type": "execute_result"
    }
   ],
   "source": [
    "df = pd.DataFrame(posts)\n",
    "\n",
    "df.head()"
   ]
  },
  {
   "cell_type": "code",
   "execution_count": 12,
   "metadata": {},
   "outputs": [],
   "source": [
    "keys = posts[0].keys()\n",
    "with open('reddit.csv', 'w', newline='', encoding='utf-8') as file:\n",
    "  writer = csv.DictWriter(file, fieldnames=keys)\n",
    "  writer.writeheader()\n",
    "  writer.writerows(posts)"
   ]
  }
 ],
 "metadata": {
  "kernelspec": {
   "display_name": "Python 3",
   "language": "python",
   "name": "python3"
  },
  "language_info": {
   "codemirror_mode": {
    "name": "ipython",
    "version": 3
   },
   "file_extension": ".py",
   "mimetype": "text/x-python",
   "name": "python",
   "nbconvert_exporter": "python",
   "pygments_lexer": "ipython3",
   "version": "3.10.0"
  }
 },
 "nbformat": 4,
 "nbformat_minor": 2
}

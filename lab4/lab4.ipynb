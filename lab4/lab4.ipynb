{
 "cells": [
  {
   "cell_type": "code",
   "execution_count": 2,
   "metadata": {},
   "outputs": [],
   "source": [
    "import requests\n",
    "from bs4 import BeautifulSoup\n",
    "import pandas as pd"
   ]
  },
  {
   "cell_type": "code",
   "execution_count": 3,
   "metadata": {},
   "outputs": [],
   "source": [
    "month = 4\n",
    "year = 2024\n",
    "urls = [f'https://tsn.ua/news?day={i}&month={month}&year={year}' for i in range(1, 31)]"
   ]
  },
  {
   "cell_type": "code",
   "execution_count": 4,
   "metadata": {},
   "outputs": [],
   "source": [
    "def parse_html(html):\n",
    "  soup = BeautifulSoup(html, 'html.parser')\n",
    "  a_tag = soup.find('a', class_='c-card__link')\n",
    "  title = a_tag.text.strip() if a_tag else None\n",
    "  href = a_tag['href'] if a_tag else None\n",
    "  time_tag = soup.find('time')\n",
    "  datetime = time_tag['datetime'] if time_tag else None\n",
    "  dd_tag = soup.find('dd', class_='c-bar__label i-before i-before--spacer-r-sm i-views')\n",
    "  views = dd_tag.text.strip() if dd_tag else None\n",
    "  return { 'title': title, 'href': href, 'datetime': datetime, 'views': views }"
   ]
  },
  {
   "cell_type": "code",
   "execution_count": 5,
   "metadata": {},
   "outputs": [],
   "source": [
    "def make_request(url):\n",
    "  response = requests.get(url)\n",
    "  soup = BeautifulSoup(response.content, 'html.parser')\n",
    "  divs = soup.find_all('div', class_='c-card__body')\n",
    "  return [parse_html(str(div)) for div in divs]"
   ]
  },
  {
   "cell_type": "code",
   "execution_count": 8,
   "metadata": {},
   "outputs": [],
   "source": [
    "news = [new for url in urls for new in make_request(url)]"
   ]
  },
  {
   "cell_type": "code",
   "execution_count": 9,
   "metadata": {},
   "outputs": [],
   "source": [
    "df = pd.DataFrame(news)\n",
    "df.head()\n",
    "df.to_csv('news.csv')"
   ]
  }
 ],
 "metadata": {
  "kernelspec": {
   "display_name": "Python 3",
   "language": "python",
   "name": "python3"
  },
  "language_info": {
   "codemirror_mode": {
    "name": "ipython",
    "version": 3
   },
   "file_extension": ".py",
   "mimetype": "text/x-python",
   "name": "python",
   "nbconvert_exporter": "python",
   "pygments_lexer": "ipython3",
   "version": "3.10.0"
  }
 },
 "nbformat": 4,
 "nbformat_minor": 2
}

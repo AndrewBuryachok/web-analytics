{
 "cells": [
  {
   "cell_type": "code",
   "execution_count": 60,
   "metadata": {},
   "outputs": [],
   "source": [
    "import re\n",
    "import pandas as pd\n",
    "import matplotlib.pyplot as plt\n",
    "from sklearn.cluster import KMeans\n",
    "from sklearn.preprocessing import StandardScaler"
   ]
  },
  {
   "cell_type": "code",
   "execution_count": 61,
   "metadata": {},
   "outputs": [
    {
     "data": {
      "text/html": [
       "<div>\n",
       "<style scoped>\n",
       "    .dataframe tbody tr th:only-of-type {\n",
       "        vertical-align: middle;\n",
       "    }\n",
       "\n",
       "    .dataframe tbody tr th {\n",
       "        vertical-align: top;\n",
       "    }\n",
       "\n",
       "    .dataframe thead th {\n",
       "        text-align: right;\n",
       "    }\n",
       "</style>\n",
       "<table border=\"1\" class=\"dataframe\">\n",
       "  <thead>\n",
       "    <tr style=\"text-align: right;\">\n",
       "      <th></th>\n",
       "      <th>ip</th>\n",
       "      <th>timestamp</th>\n",
       "      <th>request</th>\n",
       "      <th>status</th>\n",
       "      <th>bytes_sent</th>\n",
       "      <th>referrer</th>\n",
       "      <th>user_agent</th>\n",
       "      <th>date</th>\n",
       "      <th>endpoint</th>\n",
       "    </tr>\n",
       "  </thead>\n",
       "  <tbody>\n",
       "    <tr>\n",
       "      <th>0</th>\n",
       "      <td>83.149.9.216</td>\n",
       "      <td>2015-05-17 10:05:03+00:00</td>\n",
       "      <td>GET /presentations/logstash-monitorama-2013/im...</td>\n",
       "      <td>200</td>\n",
       "      <td>203023</td>\n",
       "      <td>http://semicomplete.com/presentations/logstash...</td>\n",
       "      <td>Mozilla/5.0 (Macintosh; Intel Mac OS X 10_9_1)...</td>\n",
       "      <td>2015-05-17</td>\n",
       "      <td>/presentations/logstash-monitorama-2013/images...</td>\n",
       "    </tr>\n",
       "    <tr>\n",
       "      <th>1</th>\n",
       "      <td>83.149.9.216</td>\n",
       "      <td>2015-05-17 10:05:43+00:00</td>\n",
       "      <td>GET /presentations/logstash-monitorama-2013/im...</td>\n",
       "      <td>200</td>\n",
       "      <td>171717</td>\n",
       "      <td>http://semicomplete.com/presentations/logstash...</td>\n",
       "      <td>Mozilla/5.0 (Macintosh; Intel Mac OS X 10_9_1)...</td>\n",
       "      <td>2015-05-17</td>\n",
       "      <td>/presentations/logstash-monitorama-2013/images...</td>\n",
       "    </tr>\n",
       "    <tr>\n",
       "      <th>2</th>\n",
       "      <td>83.149.9.216</td>\n",
       "      <td>2015-05-17 10:05:47+00:00</td>\n",
       "      <td>GET /presentations/logstash-monitorama-2013/pl...</td>\n",
       "      <td>200</td>\n",
       "      <td>26185</td>\n",
       "      <td>http://semicomplete.com/presentations/logstash...</td>\n",
       "      <td>Mozilla/5.0 (Macintosh; Intel Mac OS X 10_9_1)...</td>\n",
       "      <td>2015-05-17</td>\n",
       "      <td>/presentations/logstash-monitorama-2013/plugin...</td>\n",
       "    </tr>\n",
       "    <tr>\n",
       "      <th>3</th>\n",
       "      <td>83.149.9.216</td>\n",
       "      <td>2015-05-17 10:05:12+00:00</td>\n",
       "      <td>GET /presentations/logstash-monitorama-2013/pl...</td>\n",
       "      <td>200</td>\n",
       "      <td>7697</td>\n",
       "      <td>http://semicomplete.com/presentations/logstash...</td>\n",
       "      <td>Mozilla/5.0 (Macintosh; Intel Mac OS X 10_9_1)...</td>\n",
       "      <td>2015-05-17</td>\n",
       "      <td>/presentations/logstash-monitorama-2013/plugin...</td>\n",
       "    </tr>\n",
       "    <tr>\n",
       "      <th>4</th>\n",
       "      <td>83.149.9.216</td>\n",
       "      <td>2015-05-17 10:05:07+00:00</td>\n",
       "      <td>GET /presentations/logstash-monitorama-2013/pl...</td>\n",
       "      <td>200</td>\n",
       "      <td>2892</td>\n",
       "      <td>http://semicomplete.com/presentations/logstash...</td>\n",
       "      <td>Mozilla/5.0 (Macintosh; Intel Mac OS X 10_9_1)...</td>\n",
       "      <td>2015-05-17</td>\n",
       "      <td>/presentations/logstash-monitorama-2013/plugin...</td>\n",
       "    </tr>\n",
       "  </tbody>\n",
       "</table>\n",
       "</div>"
      ],
      "text/plain": [
       "             ip                 timestamp  \\\n",
       "0  83.149.9.216 2015-05-17 10:05:03+00:00   \n",
       "1  83.149.9.216 2015-05-17 10:05:43+00:00   \n",
       "2  83.149.9.216 2015-05-17 10:05:47+00:00   \n",
       "3  83.149.9.216 2015-05-17 10:05:12+00:00   \n",
       "4  83.149.9.216 2015-05-17 10:05:07+00:00   \n",
       "\n",
       "                                             request  status  bytes_sent  \\\n",
       "0  GET /presentations/logstash-monitorama-2013/im...     200      203023   \n",
       "1  GET /presentations/logstash-monitorama-2013/im...     200      171717   \n",
       "2  GET /presentations/logstash-monitorama-2013/pl...     200       26185   \n",
       "3  GET /presentations/logstash-monitorama-2013/pl...     200        7697   \n",
       "4  GET /presentations/logstash-monitorama-2013/pl...     200        2892   \n",
       "\n",
       "                                            referrer  \\\n",
       "0  http://semicomplete.com/presentations/logstash...   \n",
       "1  http://semicomplete.com/presentations/logstash...   \n",
       "2  http://semicomplete.com/presentations/logstash...   \n",
       "3  http://semicomplete.com/presentations/logstash...   \n",
       "4  http://semicomplete.com/presentations/logstash...   \n",
       "\n",
       "                                          user_agent        date  \\\n",
       "0  Mozilla/5.0 (Macintosh; Intel Mac OS X 10_9_1)...  2015-05-17   \n",
       "1  Mozilla/5.0 (Macintosh; Intel Mac OS X 10_9_1)...  2015-05-17   \n",
       "2  Mozilla/5.0 (Macintosh; Intel Mac OS X 10_9_1)...  2015-05-17   \n",
       "3  Mozilla/5.0 (Macintosh; Intel Mac OS X 10_9_1)...  2015-05-17   \n",
       "4  Mozilla/5.0 (Macintosh; Intel Mac OS X 10_9_1)...  2015-05-17   \n",
       "\n",
       "                                            endpoint  \n",
       "0  /presentations/logstash-monitorama-2013/images...  \n",
       "1  /presentations/logstash-monitorama-2013/images...  \n",
       "2  /presentations/logstash-monitorama-2013/plugin...  \n",
       "3  /presentations/logstash-monitorama-2013/plugin...  \n",
       "4  /presentations/logstash-monitorama-2013/plugin...  "
      ]
     },
     "execution_count": 61,
     "metadata": {},
     "output_type": "execute_result"
    }
   ],
   "source": [
    "def parse_log_line(line):\n",
    "  regex = r'(?P<ip>\\d+\\.\\d+\\.\\d+\\.\\d+) - - \\[(?P<timestamp>.*?)\\] \"(?P<request>.*?)\" (?P<status>\\d+) (?P<bytes_sent>\\d+) \"(?P<referrer>.*?)\" \"(?P<user_agent>.*?)\"'\n",
    "  match = re.match(regex, line)\n",
    "  return match.groupdict() if match else None\n",
    "\n",
    "rows = []\n",
    "with open('access.log', 'r') as file:\n",
    "  for line in file:\n",
    "    row = parse_log_line(line)\n",
    "    if row:\n",
    "      rows.append(row)\n",
    "\n",
    "df = pd.DataFrame(rows)\n",
    "df['timestamp'] = pd.to_datetime(df['timestamp'], format='%d/%b/%Y:%H:%M:%S %z', errors='coerce')\n",
    "df['status'] = pd.to_numeric(df['status'], errors='coerce')\n",
    "df['bytes_sent'] = pd.to_numeric(df['bytes_sent'], errors='coerce')\n",
    "df['date'] = df['timestamp'].dt.date\n",
    "df['endpoint'] = df['request'].apply(lambda x: x.split()[1])\n",
    "\n",
    "df.head()"
   ]
  },
  {
   "cell_type": "code",
   "execution_count": 62,
   "metadata": {},
   "outputs": [
    {
     "data": {
      "text/plain": [
       "date\n",
       "2015-05-17    1575\n",
       "2015-05-18    2570\n",
       "2015-05-19    2702\n",
       "2015-05-20    2483\n",
       "dtype: int64"
      ]
     },
     "execution_count": 62,
     "metadata": {},
     "output_type": "execute_result"
    }
   ],
   "source": [
    "df.groupby('date').size()"
   ]
  },
  {
   "cell_type": "code",
   "execution_count": 63,
   "metadata": {},
   "outputs": [
    {
     "data": {
      "text/plain": [
       "date\n",
       "2015-05-17    325\n",
       "2015-05-18    584\n",
       "2015-05-19    526\n",
       "2015-05-20    478\n",
       "Name: ip, dtype: int64"
      ]
     },
     "execution_count": 63,
     "metadata": {},
     "output_type": "execute_result"
    }
   ],
   "source": [
    "df.groupby('date')['ip'].nunique()"
   ]
  },
  {
   "cell_type": "code",
   "execution_count": 64,
   "metadata": {},
   "outputs": [
    {
     "data": {
      "text/plain": [
       "date\n",
       "2015-05-17    165\n",
       "2015-05-18    250\n",
       "2015-05-19    244\n",
       "2015-05-20    199\n",
       "Name: user_agent, dtype: int64"
      ]
     },
     "execution_count": 64,
     "metadata": {},
     "output_type": "execute_result"
    }
   ],
   "source": [
    "df.groupby('date')['user_agent'].nunique()"
   ]
  },
  {
   "cell_type": "code",
   "execution_count": 65,
   "metadata": {},
   "outputs": [
    {
     "data": {
      "text/plain": [
       "date\n",
       "2015-05-17    395.069029\n",
       "2015-05-18    752.102049\n",
       "2015-05-19    634.982432\n",
       "2015-05-20    837.859255\n",
       "Name: bytes_sent, dtype: float64"
      ]
     },
     "execution_count": 65,
     "metadata": {},
     "output_type": "execute_result"
    }
   ],
   "source": [
    "df.groupby('date')['bytes_sent'].sum() / 2 ** 20"
   ]
  },
  {
   "cell_type": "code",
   "execution_count": 66,
   "metadata": {},
   "outputs": [
    {
     "data": {
      "text/plain": [
       "date\n",
       "2015-05-17    1467\n",
       "2015-05-18    2454\n",
       "2015-05-19    2592\n",
       "2015-05-20    2399\n",
       "dtype: int64"
      ]
     },
     "execution_count": 66,
     "metadata": {},
     "output_type": "execute_result"
    }
   ],
   "source": [
    "df[df['status'] == 200].groupby('date').size()"
   ]
  },
  {
   "cell_type": "code",
   "execution_count": 67,
   "metadata": {},
   "outputs": [
    {
     "data": {
      "text/plain": [
       "date\n",
       "2015-05-17    108\n",
       "2015-05-18    116\n",
       "2015-05-19    110\n",
       "2015-05-20     84\n",
       "dtype: int64"
      ]
     },
     "execution_count": 67,
     "metadata": {},
     "output_type": "execute_result"
    }
   ],
   "source": [
    "df[df['status'] != 200].groupby('date').size()"
   ]
  },
  {
   "cell_type": "code",
   "execution_count": 68,
   "metadata": {},
   "outputs": [
    {
     "data": {
      "text/plain": [
       "ip\n",
       "66.249.73.135      432\n",
       "46.105.14.53       364\n",
       "130.237.218.86     293\n",
       "50.16.19.13        113\n",
       "209.85.238.199     102\n",
       "                  ... \n",
       "184.151.222.45       1\n",
       "184.148.132.111      1\n",
       "183.91.14.219        1\n",
       "37.237.137.58        1\n",
       "216.14.208.102       1\n",
       "Length: 1674, dtype: int64"
      ]
     },
     "execution_count": 68,
     "metadata": {},
     "output_type": "execute_result"
    }
   ],
   "source": [
    "df.groupby('ip').size().sort_values(ascending=False)"
   ]
  },
  {
   "cell_type": "code",
   "execution_count": 69,
   "metadata": {},
   "outputs": [
    {
     "data": {
      "text/plain": [
       "endpoint\n",
       "/favicon.ico                       788\n",
       "/style2.css                        532\n",
       "/reset.css                         528\n",
       "/images/jordan-80.png              522\n",
       "/images/web/2009/banner.png        506\n",
       "                                  ... \n",
       "/files/java-chatclient/?C=M;O=D      1\n",
       "/files/java-chatclient/?C=D;O=A      1\n",
       "/files/images/?C=S;O=D               1\n",
       "/files/images/?C=N;O=A               1\n",
       "/files/fex/fex-20070729.tar.gz       1\n",
       "Length: 1439, dtype: int64"
      ]
     },
     "execution_count": 69,
     "metadata": {},
     "output_type": "execute_result"
    }
   ],
   "source": [
    "df.groupby('endpoint').size().sort_values(ascending=False)"
   ]
  },
  {
   "cell_type": "code",
   "execution_count": 74,
   "metadata": {},
   "outputs": [
    {
     "data": {
      "image/png": "[encoded data removed]",
      "text/plain": [
       "<Figure size 720x432 with 1 Axes>"
      ]
     },
     "metadata": {
      "needs_background": "light"
     },
     "output_type": "display_data"
    }
   ],
   "source": [
    "df['hour'] = df['timestamp'].dt.hour\n",
    "\n",
    "X = df[['hour', 'bytes_sent']]\n",
    "\n",
    "scaler = StandardScaler()\n",
    "X_scaled = scaler.fit_transform(X)\n",
    "\n",
    "kmeans = KMeans(n_clusters=4)\n",
    "df['cluster'] = kmeans.fit_predict(X_scaled)\n",
    "\n",
    "plt.figure(figsize=(10, 6))\n",
    "for cluster_label in df['cluster'].unique():\n",
    "    cluster_data = df[df['cluster'] == cluster_label]\n",
    "    plt.scatter(cluster_data['hour'], cluster_data['bytes_sent'], label=f'Cluster {cluster_label}')\n",
    "plt.xlabel('Hour of the Day')\n",
    "plt.ylabel('Bytes Sent')\n",
    "plt.title('Clusters of Data')\n",
    "plt.legend()\n",
    "plt.grid(True)\n",
    "plt.show()"
   ]
  }
 ],
 "metadata": {
  "kernelspec": {
   "display_name": "Python 3",
   "language": "python",
   "name": "python3"
  },
  "language_info": {
   "codemirror_mode": {
    "name": "ipython",
    "version": 3
   },
   "file_extension": ".py",
   "mimetype": "text/x-python",
   "name": "python",
   "nbconvert_exporter": "python",
   "pygments_lexer": "ipython3",
   "version": "3.7.0"
  }
 },
 "nbformat": 4,
 "nbformat_minor": 2
}
